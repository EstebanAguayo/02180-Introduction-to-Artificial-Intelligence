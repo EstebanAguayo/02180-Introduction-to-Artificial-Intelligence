{
 "cells": [
  {
   "cell_type": "code",
   "execution_count": 8,
   "metadata": {},
   "outputs": [],
   "source": [
    "import numpy as np"
   ]
  },
  {
   "cell_type": "markdown",
   "metadata": {},
   "source": [
    "There are 2 main UNIFORMED SEARCH ALGORITHMS.\n",
    "* Depth-First-Search (DFS). Which exploits the current node n and its childs until the branch is extinguished. It is similar to a LIFO memory\n",
    "* Breadth-First-Search (BFS). Breadth or Amplitude-first search. Exploits all the childs of a node before expanding others. FIFO memory"
   ]
  },
  {
   "cell_type": "code",
   "execution_count": 9,
   "metadata": {},
   "outputs": [
    {
     "ename": "SyntaxError",
     "evalue": "invalid syntax (3149164578.py, line 1)",
     "output_type": "error",
     "traceback": [
      "\u001b[1;36m  Input \u001b[1;32mIn [9]\u001b[1;36m\u001b[0m\n\u001b[1;33m    states =\u001b[0m\n\u001b[1;37m             ^\u001b[0m\n\u001b[1;31mSyntaxError\u001b[0m\u001b[1;31m:\u001b[0m invalid syntax\n"
     ]
    }
   ],
   "source": [
    "graph = []\n",
    "current_state = s0\n",
    "goal_state = []"
   ]
  },
  {
   "cell_type": "code",
   "execution_count": null,
   "metadata": {},
   "outputs": [],
   "source": [
    "frontier = s0\n",
    "expandedNodes = np.array([])\n"
   ]
  },
  {
   "cell_type": "markdown",
   "metadata": {},
   "source": [
    "**DEPTH_FIRST_SEARCH (DFS)**"
   ]
  },
  {
   "cell_type": "code",
   "execution_count": 12,
   "metadata": {},
   "outputs": [],
   "source": [
    "def dfs(graph, current_state, goal_state, visited=None):\n",
    "\n",
    "    if visited is None:\n",
    "        visited = []\n",
    "\n",
    "    visited.append(current_state)\n",
    "\n",
    "    if current_state is goal_state:\n",
    "        return visited\n",
    "        \n",
    "# RECURSIVENESS. TO CHECK IF NEIGHBOR EXPLORED\n",
    "    for child in graph[current_state]:\n",
    "        if child not in visited:\n",
    "            path = dfs(graph, child, goal_state, visited)\n",
    "            if path:\n",
    "                return path"
   ]
  },
  {
   "cell_type": "markdown",
   "metadata": {},
   "source": [
    "**BREADTH_FIRST_SEARCH (BFS)**"
   ]
  },
  {
   "cell_type": "code",
   "execution_count": 15,
   "metadata": {},
   "outputs": [
    {
     "ename": "TypeError",
     "evalue": "addEdge() takes 3 positional arguments but 4 were given",
     "output_type": "error",
     "traceback": [
      "\u001b[1;31m---------------------------------------------------------------------------\u001b[0m",
      "\u001b[1;31mTypeError\u001b[0m                                 Traceback (most recent call last)",
      "\u001b[1;32mc:\\Users\\Esteban\\Documents\\DTU\\2nd Semester\\Intro to AI\\Week2\\exercises2.ipynb Cell 8'\u001b[0m in \u001b[0;36m<module>\u001b[1;34m\u001b[0m\n\u001b[0;32m     <a href='vscode-notebook-cell:/c%3A/Users/Esteban/Documents/DTU/2nd%20Semester/Intro%20to%20AI/Week2/exercises2.ipynb#ch0000011?line=49'>50</a>\u001b[0m \u001b[39m# Driver code\u001b[39;00m\n\u001b[0;32m     <a href='vscode-notebook-cell:/c%3A/Users/Esteban/Documents/DTU/2nd%20Semester/Intro%20to%20AI/Week2/exercises2.ipynb#ch0000011?line=50'>51</a>\u001b[0m  \n\u001b[0;32m     <a href='vscode-notebook-cell:/c%3A/Users/Esteban/Documents/DTU/2nd%20Semester/Intro%20to%20AI/Week2/exercises2.ipynb#ch0000011?line=51'>52</a>\u001b[0m \u001b[39m# Create a graph given in\u001b[39;00m\n\u001b[0;32m     <a href='vscode-notebook-cell:/c%3A/Users/Esteban/Documents/DTU/2nd%20Semester/Intro%20to%20AI/Week2/exercises2.ipynb#ch0000011?line=52'>53</a>\u001b[0m \u001b[39m# the above diagram\u001b[39;00m\n\u001b[0;32m     <a href='vscode-notebook-cell:/c%3A/Users/Esteban/Documents/DTU/2nd%20Semester/Intro%20to%20AI/Week2/exercises2.ipynb#ch0000011?line=53'>54</a>\u001b[0m g \u001b[39m=\u001b[39m Graph()\n\u001b[1;32m---> <a href='vscode-notebook-cell:/c%3A/Users/Esteban/Documents/DTU/2nd%20Semester/Intro%20to%20AI/Week2/exercises2.ipynb#ch0000011?line=54'>55</a>\u001b[0m g\u001b[39m.\u001b[39;49maddEdge(\u001b[39m0\u001b[39;49m, \u001b[39m1\u001b[39;49m, \u001b[39m2\u001b[39;49m) \u001b[39m#0\u001b[39;00m\n\u001b[0;32m     <a href='vscode-notebook-cell:/c%3A/Users/Esteban/Documents/DTU/2nd%20Semester/Intro%20to%20AI/Week2/exercises2.ipynb#ch0000011?line=55'>56</a>\u001b[0m g\u001b[39m.\u001b[39maddEdge(\u001b[39m0\u001b[39m, \u001b[39m3\u001b[39m) \u001b[39m#1\u001b[39;00m\n\u001b[0;32m     <a href='vscode-notebook-cell:/c%3A/Users/Esteban/Documents/DTU/2nd%20Semester/Intro%20to%20AI/Week2/exercises2.ipynb#ch0000011?line=56'>57</a>\u001b[0m g\u001b[39m.\u001b[39maddEdge(\u001b[39m0\u001b[39m, \u001b[39m3\u001b[39m) \u001b[39m#2\u001b[39;00m\n",
      "\u001b[1;31mTypeError\u001b[0m: addEdge() takes 3 positional arguments but 4 were given"
     ]
    }
   ],
   "source": [
    "# Python3 Program to print BFS traversal\n",
    "# from a given source vertex. BFS(int s)\n",
    "# traverses vertices reachable from s.\n",
    "from collections import defaultdict\n",
    " \n",
    "# This class represents a directed graph\n",
    "# using adjacency list representation\n",
    "class Graph:\n",
    " \n",
    "    # Constructor\n",
    "    def __init__(self):\n",
    " \n",
    "        # default dictionary to store graph\n",
    "        self.graph = defaultdict(list)\n",
    " \n",
    "    # function to add an edge to graph\n",
    "    def addEdge(self,u,v):\n",
    "        self.graph[u].append(v)\n",
    " \n",
    "    # Function to print a BFS of graph\n",
    "    def BFS(self, s):\n",
    " \n",
    "        # Mark all the vertices as not visited\n",
    "        visited = [False] * (max(self.graph) + 1)\n",
    " \n",
    "        # Create a queue for BFS\n",
    "        queue = []\n",
    " \n",
    "        # Mark the source node as\n",
    "        # visited and enqueue it\n",
    "        queue.append(s)\n",
    "        visited[s] = True\n",
    " \n",
    "        while queue:\n",
    " \n",
    "            # Dequeue a vertex from\n",
    "            # queue and print it\n",
    "            s = queue.pop(0)\n",
    "            print (s, end = \" \")\n",
    " \n",
    "            # Get all adjacent vertices of the\n",
    "            # dequeued vertex s. If a adjacent\n",
    "            # has not been visited, then mark it\n",
    "            # visited and enqueue it\n",
    "            for i in self.graph[s]:\n",
    "                if visited[i] == False:\n",
    "                    queue.append(i)\n",
    "                    visited[i] = True\n",
    " \n",
    "# Driver code\n",
    " \n",
    "# Create a graph given in\n",
    "# the above diagram\n",
    "g = Graph()\n",
    "g.addEdge(0, 1, 2) #0\n",
    "g.addEdge(0, 3) #1\n",
    "g.addEdge(0, 3) #2\n",
    "g.addEdge(1, 2, 4) #3\n",
    "g.addEdge(3, 5) #4\n",
    "g.addEdge(4, 6) #5\n",
    "g.addEdge(5, 7) #6\n",
    "g.addEdge(6, 8) #7\n",
    "g.addEdge(7, 9) #8\n",
    "g.addEdge(8, 10) #9\n",
    "g.addEdge(9, 11, 12) #10\n",
    "g.addEdge(9, 13) #11\n",
    "g.addEdge(9, 13) #12\n",
    "g.addEdge(11, 12) #13\n",
    " \n",
    "print (\"Following is Breadth First Traversal\"\n",
    "                  \" (starting from vertex 0)\")\n",
    "g.BFS(0)\n",
    " \n",
    "# This code is contributed by Neelam Yadav"
   ]
  },
  {
   "cell_type": "code",
   "execution_count": 13,
   "metadata": {},
   "outputs": [],
   "source": [
    "def bfs(graph, start_state, goal_state, visited=None):\n",
    "    \n",
    "    path = [start_state]\n",
    "    node_and_path = [start_state, path]\n",
    "    bfs_frontier = [node_and_path]\n",
    "    visited = set()\n",
    "\n",
    "    while bfs_frontier:\n",
    "        current_node, path = bfs_frontier.pop(0)\n",
    "        visited.add(current_node)\n",
    "        \n",
    "        for child in graph[current_node]:\n",
    "            if child not in visited:\n",
    "                if child is goal_state:\n",
    "                    return path + [child]\n",
    "                else:\n",
    "                    bfs_frontier.append([child, path +[child]]) # Update frontier for next iteration"
   ]
  },
  {
   "cell_type": "markdown",
   "metadata": {},
   "source": [
    "**Tuples() and Lists[]**: Key differences\n",
    "\n",
    "    They are both used to store collection of data\n",
    "    They are both heterogeneous data types means that you can store any kind of data type\n",
    "    They are both ordered means the order in which you put the items are kept.\n",
    "    They are both sequential data types so you can iterate over the items contained.\n",
    "    Items of both types can be accessed by an integer index operator, provided in square brackets, [index]\n",
    "\n",
    "**Tuples cannot be modified uppon execution while lists can**\n",
    "* Tupples require less memory to store the same data\n",
    "* They are also more time-efficient"
   ]
  },
  {
   "cell_type": "markdown",
   "metadata": {},
   "source": [
    "**set() Function. Storage of multiple items in a single variable**\n",
    "\n",
    "*Unordered, unchangeable, and do not allow duplicate values.*\n",
    "\n",
    "Used to convert any of the iterable to sequence of iterable elements with distinct elements, commonly called Set.\n",
    "\n",
    "Returns an empty set if no element is passed. Non-repeating element iterable modified as passed as argument. "
   ]
  }
 ],
 "metadata": {
  "interpreter": {
   "hash": "7dc8fa68a960a7a74f4c0088dc760246694247446f8a3a5dc86f650ffada52f7"
  },
  "kernelspec": {
   "display_name": "Python 3.8.12 ('Perception_AS')",
   "language": "python",
   "name": "python3"
  },
  "language_info": {
   "codemirror_mode": {
    "name": "ipython",
    "version": 3
   },
   "file_extension": ".py",
   "mimetype": "text/x-python",
   "name": "python",
   "nbconvert_exporter": "python",
   "pygments_lexer": "ipython3",
   "version": "3.8.12"
  },
  "orig_nbformat": 4
 },
 "nbformat": 4,
 "nbformat_minor": 2
}
